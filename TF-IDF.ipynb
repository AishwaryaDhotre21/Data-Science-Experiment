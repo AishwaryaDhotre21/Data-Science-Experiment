{
 "cells": [
  {
   "cell_type": "markdown",
   "metadata": {},
   "source": [
    "# TF(Term Frequency)-IDF(Inverse Document Frequency)"
   ]
  },
  {
   "cell_type": "raw",
   "metadata": {},
   "source": []
  },
  {
   "cell_type": "markdown",
   "metadata": {},
   "source": [
    "Terminology :\n",
    "\n",
    "    t — term (word)\n",
    "    d — document (set of words)\n",
    "    N — count of corpus\n",
    "    corpus — the total document set"
   ]
  },
  {
   "cell_type": "markdown",
   "metadata": {},
   "source": [
    "Term Frequency Formula : tf(t,d) = count of t in d / number of words in d"
   ]
  },
  {
   "cell_type": "markdown",
   "metadata": {},
   "source": [
    "Inverse Document Frequency(IDF): tf-idf(t,d)=tf(t,d) * log(N/(df+1))"
   ]
  },
  {
   "cell_type": "raw",
   "metadata": {},
   "source": []
  },
  {
   "cell_type": "code",
   "execution_count": 1,
   "metadata": {},
   "outputs": [],
   "source": [
    "import pandas as pd\n",
    "import sklearn as sk\n",
    "import math "
   ]
  },
  {
   "cell_type": "markdown",
   "metadata": {},
   "source": [
    "let’s load our sentences and combine them together in a single set "
   ]
  },
  {
   "cell_type": "code",
   "execution_count": 2,
   "metadata": {},
   "outputs": [],
   "source": [
    "f = \"Data Science is the demanding job of the 21st century\"\n",
    "s =\"machine learning is the key for data science\""
   ]
  },
  {
   "cell_type": "markdown",
   "metadata": {},
   "source": [
    " split so each word have their own string"
   ]
  },
  {
   "cell_type": "code",
   "execution_count": 3,
   "metadata": {},
   "outputs": [
    {
     "name": "stdout",
     "output_type": "stream",
     "text": [
      "['Data', 'Science', 'is', 'the', 'demanding', 'job', 'of', 'the', '21st', 'century']\n",
      "['machine', 'learning', 'is', 'the', 'key', 'for', 'data', 'science']\n"
     ]
    }
   ],
   "source": [
    "f1=f.split(\" \")\n",
    "s2=s.split(\" \")\n",
    "print(f1)\n",
    "print(s2)"
   ]
  },
  {
   "cell_type": "code",
   "execution_count": 4,
   "metadata": {},
   "outputs": [
    {
     "name": "stdout",
     "output_type": "stream",
     "text": [
      "{'data', 'is', 'key', 'job', 'century', 'Science', 'machine', 'learning', '21st', 'Data', 'the', 'science', 'for', 'of', 'demanding'}\n"
     ]
    }
   ],
   "source": [
    "total= set(f1).union(set(s2))\n",
    "print(total)"
   ]
  },
  {
   "cell_type": "markdown",
   "metadata": {},
   "source": [
    "Now lets add a way to count the words using a dictionary key-value pairing for both sentences "
   ]
  },
  {
   "cell_type": "code",
   "execution_count": 5,
   "metadata": {},
   "outputs": [],
   "source": [
    "wordDictA = dict.fromkeys(total, 0) \n",
    "wordDictB = dict.fromkeys(total, 0)\n",
    "\n",
    "\n",
    "for i in f1:\n",
    "    wordDictA[i]+=1\n",
    "    \n",
    "for j in s2:\n",
    "    wordDictB[j]+=1"
   ]
  },
  {
   "cell_type": "code",
   "execution_count": 6,
   "metadata": {},
   "outputs": [
    {
     "data": {
      "text/plain": [
       "{'data': 0,\n",
       " 'is': 1,\n",
       " 'key': 0,\n",
       " 'job': 1,\n",
       " 'century': 1,\n",
       " 'Science': 1,\n",
       " 'machine': 0,\n",
       " 'learning': 0,\n",
       " '21st': 1,\n",
       " 'Data': 1,\n",
       " 'the': 2,\n",
       " 'science': 0,\n",
       " 'for': 0,\n",
       " 'of': 1,\n",
       " 'demanding': 1}"
      ]
     },
     "execution_count": 6,
     "metadata": {},
     "output_type": "execute_result"
    }
   ],
   "source": [
    "wordDictA"
   ]
  },
  {
   "cell_type": "code",
   "execution_count": 7,
   "metadata": {},
   "outputs": [
    {
     "data": {
      "text/plain": [
       "{'data': 1,\n",
       " 'is': 1,\n",
       " 'key': 1,\n",
       " 'job': 0,\n",
       " 'century': 0,\n",
       " 'Science': 0,\n",
       " 'machine': 1,\n",
       " 'learning': 1,\n",
       " '21st': 0,\n",
       " 'Data': 0,\n",
       " 'the': 1,\n",
       " 'science': 1,\n",
       " 'for': 1,\n",
       " 'of': 0,\n",
       " 'demanding': 0}"
      ]
     },
     "execution_count": 7,
     "metadata": {},
     "output_type": "execute_result"
    }
   ],
   "source": [
    "wordDictB"
   ]
  },
  {
   "cell_type": "markdown",
   "metadata": {},
   "source": [
    "Now we put them in a dataframe and then view the result"
   ]
  },
  {
   "cell_type": "code",
   "execution_count": 8,
   "metadata": {},
   "outputs": [
    {
     "data": {
      "text/html": [
       "<div>\n",
       "<style scoped>\n",
       "    .dataframe tbody tr th:only-of-type {\n",
       "        vertical-align: middle;\n",
       "    }\n",
       "\n",
       "    .dataframe tbody tr th {\n",
       "        vertical-align: top;\n",
       "    }\n",
       "\n",
       "    .dataframe thead th {\n",
       "        text-align: right;\n",
       "    }\n",
       "</style>\n",
       "<table border=\"1\" class=\"dataframe\">\n",
       "  <thead>\n",
       "    <tr style=\"text-align: right;\">\n",
       "      <th></th>\n",
       "      <th>data</th>\n",
       "      <th>is</th>\n",
       "      <th>key</th>\n",
       "      <th>job</th>\n",
       "      <th>century</th>\n",
       "      <th>Science</th>\n",
       "      <th>machine</th>\n",
       "      <th>learning</th>\n",
       "      <th>21st</th>\n",
       "      <th>Data</th>\n",
       "      <th>the</th>\n",
       "      <th>science</th>\n",
       "      <th>for</th>\n",
       "      <th>of</th>\n",
       "      <th>demanding</th>\n",
       "    </tr>\n",
       "  </thead>\n",
       "  <tbody>\n",
       "    <tr>\n",
       "      <th>0</th>\n",
       "      <td>0</td>\n",
       "      <td>1</td>\n",
       "      <td>0</td>\n",
       "      <td>1</td>\n",
       "      <td>1</td>\n",
       "      <td>1</td>\n",
       "      <td>0</td>\n",
       "      <td>0</td>\n",
       "      <td>1</td>\n",
       "      <td>1</td>\n",
       "      <td>2</td>\n",
       "      <td>0</td>\n",
       "      <td>0</td>\n",
       "      <td>1</td>\n",
       "      <td>1</td>\n",
       "    </tr>\n",
       "    <tr>\n",
       "      <th>1</th>\n",
       "      <td>1</td>\n",
       "      <td>1</td>\n",
       "      <td>1</td>\n",
       "      <td>0</td>\n",
       "      <td>0</td>\n",
       "      <td>0</td>\n",
       "      <td>1</td>\n",
       "      <td>1</td>\n",
       "      <td>0</td>\n",
       "      <td>0</td>\n",
       "      <td>1</td>\n",
       "      <td>1</td>\n",
       "      <td>1</td>\n",
       "      <td>0</td>\n",
       "      <td>0</td>\n",
       "    </tr>\n",
       "  </tbody>\n",
       "</table>\n",
       "</div>"
      ],
      "text/plain": [
       "   data  is  key  job  century  Science  machine  learning  21st  Data  the  \\\n",
       "0     0   1    0    1        1        1        0         0     1     1    2   \n",
       "1     1   1    1    0        0        0        1         1     0     0    1   \n",
       "\n",
       "   science  for  of  demanding  \n",
       "0        0    0   1          1  \n",
       "1        1    1   0          0  "
      ]
     },
     "execution_count": 8,
     "metadata": {},
     "output_type": "execute_result"
    }
   ],
   "source": [
    "pd.DataFrame([wordDictA, wordDictB])"
   ]
  },
  {
   "cell_type": "markdown",
   "metadata": {},
   "source": [
    "No let’s writing the TF Function"
   ]
  },
  {
   "cell_type": "code",
   "execution_count": 9,
   "metadata": {},
   "outputs": [],
   "source": [
    "def computeTF(wordDict, doc):\n",
    "    tfDict = {}\n",
    "    corpusCount = len(doc)\n",
    "    for word, count in wordDict.items():\n",
    "        tfDict[word] = count/float(corpusCount)\n",
    "    return(tfDict)\n",
    "\n",
    "\n",
    "#running our sentences through the tf function:\n",
    "\n",
    "tfFirst = computeTF(wordDictA, f1)\n",
    "tfSecond = computeTF(wordDictB, s2)\n",
    "\n",
    "#Converting to dataframe for visualization\n",
    "\n",
    "tf = pd.DataFrame([tfFirst, tfSecond])"
   ]
  },
  {
   "cell_type": "code",
   "execution_count": 10,
   "metadata": {},
   "outputs": [
    {
     "data": {
      "text/plain": [
       "{'data': 0.0,\n",
       " 'is': 0.1,\n",
       " 'key': 0.0,\n",
       " 'job': 0.1,\n",
       " 'century': 0.1,\n",
       " 'Science': 0.1,\n",
       " 'machine': 0.0,\n",
       " 'learning': 0.0,\n",
       " '21st': 0.1,\n",
       " 'Data': 0.1,\n",
       " 'the': 0.2,\n",
       " 'science': 0.0,\n",
       " 'for': 0.0,\n",
       " 'of': 0.1,\n",
       " 'demanding': 0.1}"
      ]
     },
     "execution_count": 10,
     "metadata": {},
     "output_type": "execute_result"
    }
   ],
   "source": [
    "tfFirst"
   ]
  },
  {
   "cell_type": "code",
   "execution_count": 11,
   "metadata": {},
   "outputs": [
    {
     "data": {
      "text/plain": [
       "{'data': 0.125,\n",
       " 'is': 0.125,\n",
       " 'key': 0.125,\n",
       " 'job': 0.0,\n",
       " 'century': 0.0,\n",
       " 'Science': 0.0,\n",
       " 'machine': 0.125,\n",
       " 'learning': 0.125,\n",
       " '21st': 0.0,\n",
       " 'Data': 0.0,\n",
       " 'the': 0.125,\n",
       " 'science': 0.125,\n",
       " 'for': 0.125,\n",
       " 'of': 0.0,\n",
       " 'demanding': 0.0}"
      ]
     },
     "execution_count": 11,
     "metadata": {},
     "output_type": "execute_result"
    }
   ],
   "source": [
    "tfSecond"
   ]
  },
  {
   "cell_type": "code",
   "execution_count": 12,
   "metadata": {},
   "outputs": [
    {
     "data": {
      "text/html": [
       "<div>\n",
       "<style scoped>\n",
       "    .dataframe tbody tr th:only-of-type {\n",
       "        vertical-align: middle;\n",
       "    }\n",
       "\n",
       "    .dataframe tbody tr th {\n",
       "        vertical-align: top;\n",
       "    }\n",
       "\n",
       "    .dataframe thead th {\n",
       "        text-align: right;\n",
       "    }\n",
       "</style>\n",
       "<table border=\"1\" class=\"dataframe\">\n",
       "  <thead>\n",
       "    <tr style=\"text-align: right;\">\n",
       "      <th></th>\n",
       "      <th>data</th>\n",
       "      <th>is</th>\n",
       "      <th>key</th>\n",
       "      <th>job</th>\n",
       "      <th>century</th>\n",
       "      <th>Science</th>\n",
       "      <th>machine</th>\n",
       "      <th>learning</th>\n",
       "      <th>21st</th>\n",
       "      <th>Data</th>\n",
       "      <th>the</th>\n",
       "      <th>science</th>\n",
       "      <th>for</th>\n",
       "      <th>of</th>\n",
       "      <th>demanding</th>\n",
       "    </tr>\n",
       "  </thead>\n",
       "  <tbody>\n",
       "    <tr>\n",
       "      <th>0</th>\n",
       "      <td>0.000</td>\n",
       "      <td>0.100</td>\n",
       "      <td>0.000</td>\n",
       "      <td>0.1</td>\n",
       "      <td>0.1</td>\n",
       "      <td>0.1</td>\n",
       "      <td>0.000</td>\n",
       "      <td>0.000</td>\n",
       "      <td>0.1</td>\n",
       "      <td>0.1</td>\n",
       "      <td>0.200</td>\n",
       "      <td>0.000</td>\n",
       "      <td>0.000</td>\n",
       "      <td>0.1</td>\n",
       "      <td>0.1</td>\n",
       "    </tr>\n",
       "    <tr>\n",
       "      <th>1</th>\n",
       "      <td>0.125</td>\n",
       "      <td>0.125</td>\n",
       "      <td>0.125</td>\n",
       "      <td>0.0</td>\n",
       "      <td>0.0</td>\n",
       "      <td>0.0</td>\n",
       "      <td>0.125</td>\n",
       "      <td>0.125</td>\n",
       "      <td>0.0</td>\n",
       "      <td>0.0</td>\n",
       "      <td>0.125</td>\n",
       "      <td>0.125</td>\n",
       "      <td>0.125</td>\n",
       "      <td>0.0</td>\n",
       "      <td>0.0</td>\n",
       "    </tr>\n",
       "  </tbody>\n",
       "</table>\n",
       "</div>"
      ],
      "text/plain": [
       "    data     is    key  job  century  Science  machine  learning  21st  Data  \\\n",
       "0  0.000  0.100  0.000  0.1      0.1      0.1    0.000     0.000   0.1   0.1   \n",
       "1  0.125  0.125  0.125  0.0      0.0      0.0    0.125     0.125   0.0   0.0   \n",
       "\n",
       "     the  science    for   of  demanding  \n",
       "0  0.200    0.000  0.000  0.1        0.1  \n",
       "1  0.125    0.125  0.125  0.0        0.0  "
      ]
     },
     "execution_count": 12,
     "metadata": {},
     "output_type": "execute_result"
    }
   ],
   "source": [
    "tf"
   ]
  },
  {
   "cell_type": "markdown",
   "metadata": {},
   "source": [
    "removing the stop word"
   ]
  },
  {
   "cell_type": "code",
   "execution_count": 13,
   "metadata": {},
   "outputs": [
    {
     "name": "stdout",
     "output_type": "stream",
     "text": [
      "['data', 'key', 'job', 'century', 'Science', 'machine', 'learning', '21st', 'Data', 'science', 'demanding']\n"
     ]
    }
   ],
   "source": [
    "import nltk\n",
    "#nltk.download('stopwords')\n",
    "from nltk.corpus import stopwords\n",
    "stop_words = set(stopwords.words('english'))\n",
    "filtered_sentence = [w for w in wordDictA if not w in stop_words]\n",
    "print(filtered_sentence)"
   ]
  },
  {
   "cell_type": "markdown",
   "metadata": {},
   "source": [
    "Caculate IDF"
   ]
  },
  {
   "cell_type": "code",
   "execution_count": 14,
   "metadata": {},
   "outputs": [],
   "source": [
    "def computeIDF(docList):\n",
    "    idfDict = {}\n",
    "    N = len(docList)\n",
    "    \n",
    "    idfDict = dict.fromkeys(docList[0].keys(), 0)\n",
    "    for word, val in idfDict.items():\n",
    "        idfDict[word] = math.log10(N / (float(val) + 1))\n",
    "        \n",
    "    return(idfDict)\n",
    "\n",
    "#inputing our sentences in the log file\n",
    "idfs = computeIDF([wordDictA, wordDictB])"
   ]
  },
  {
   "cell_type": "code",
   "execution_count": 15,
   "metadata": {},
   "outputs": [
    {
     "data": {
      "text/plain": [
       "{'data': 0.3010299956639812,\n",
       " 'is': 0.3010299956639812,\n",
       " 'key': 0.3010299956639812,\n",
       " 'job': 0.3010299956639812,\n",
       " 'century': 0.3010299956639812,\n",
       " 'Science': 0.3010299956639812,\n",
       " 'machine': 0.3010299956639812,\n",
       " 'learning': 0.3010299956639812,\n",
       " '21st': 0.3010299956639812,\n",
       " 'Data': 0.3010299956639812,\n",
       " 'the': 0.3010299956639812,\n",
       " 'science': 0.3010299956639812,\n",
       " 'for': 0.3010299956639812,\n",
       " 'of': 0.3010299956639812,\n",
       " 'demanding': 0.3010299956639812}"
      ]
     },
     "execution_count": 15,
     "metadata": {},
     "output_type": "execute_result"
    }
   ],
   "source": [
    "idfs"
   ]
  },
  {
   "cell_type": "markdown",
   "metadata": {},
   "source": [
    "Another function type to calculate inverse document frequency"
   ]
  },
  {
   "cell_type": "code",
   "execution_count": 16,
   "metadata": {},
   "outputs": [],
   "source": [
    "def idf2(doc):\n",
    "    dict1={}\n",
    "    N=len(doc)\n",
    "    for k,v in doc.items():\n",
    "        dict1[k]=math.log10(N/(float(v)+1))\n",
    "        \n",
    "    return dict1\n",
    "\n",
    "    "
   ]
  },
  {
   "cell_type": "code",
   "execution_count": 17,
   "metadata": {},
   "outputs": [
    {
     "data": {
      "text/plain": [
       "{'data': 1.1760912590556813,\n",
       " 'is': 0.8750612633917001,\n",
       " 'key': 1.1760912590556813,\n",
       " 'job': 0.8750612633917001,\n",
       " 'century': 0.8750612633917001,\n",
       " 'Science': 0.8750612633917001,\n",
       " 'machine': 1.1760912590556813,\n",
       " 'learning': 1.1760912590556813,\n",
       " '21st': 0.8750612633917001,\n",
       " 'Data': 0.8750612633917001,\n",
       " 'the': 0.6989700043360189,\n",
       " 'science': 1.1760912590556813,\n",
       " 'for': 1.1760912590556813,\n",
       " 'of': 0.8750612633917001,\n",
       " 'demanding': 0.8750612633917001}"
      ]
     },
     "execution_count": 17,
     "metadata": {},
     "output_type": "execute_result"
    }
   ],
   "source": [
    "idfA=idf2(wordDictA)\n",
    "idfA"
   ]
  },
  {
   "cell_type": "code",
   "execution_count": 18,
   "metadata": {},
   "outputs": [
    {
     "data": {
      "text/plain": [
       "{'data': 0.8750612633917001,\n",
       " 'is': 0.8750612633917001,\n",
       " 'key': 0.8750612633917001,\n",
       " 'job': 1.1760912590556813,\n",
       " 'century': 1.1760912590556813,\n",
       " 'Science': 1.1760912590556813,\n",
       " 'machine': 0.8750612633917001,\n",
       " 'learning': 0.8750612633917001,\n",
       " '21st': 1.1760912590556813,\n",
       " 'Data': 1.1760912590556813,\n",
       " 'the': 0.8750612633917001,\n",
       " 'science': 0.8750612633917001,\n",
       " 'for': 0.8750612633917001,\n",
       " 'of': 1.1760912590556813,\n",
       " 'demanding': 1.1760912590556813}"
      ]
     },
     "execution_count": 18,
     "metadata": {},
     "output_type": "execute_result"
    }
   ],
   "source": [
    "idfB=idf2(wordDictB)\n",
    "idfB"
   ]
  },
  {
   "cell_type": "markdown",
   "metadata": {},
   "source": [
    "calculating the TFIDF"
   ]
  },
  {
   "cell_type": "code",
   "execution_count": 19,
   "metadata": {},
   "outputs": [
    {
     "name": "stdout",
     "output_type": "stream",
     "text": [
      "       data        is       key       job   century   Science   machine  \\\n",
      "0  0.000000  0.030103  0.000000  0.030103  0.030103  0.030103  0.000000   \n",
      "1  0.037629  0.037629  0.037629  0.000000  0.000000  0.000000  0.037629   \n",
      "\n",
      "   learning      21st      Data       the   science       for        of  \\\n",
      "0  0.000000  0.030103  0.030103  0.060206  0.000000  0.000000  0.030103   \n",
      "1  0.037629  0.000000  0.000000  0.037629  0.037629  0.037629  0.000000   \n",
      "\n",
      "   demanding  \n",
      "0   0.030103  \n",
      "1   0.000000  \n"
     ]
    }
   ],
   "source": [
    "def computeTFIDF(tfBow, idfs):\n",
    "    tfidf = {}\n",
    "    for word, val in tfBow.items():\n",
    "        tfidf[word] = val*idfs[word]\n",
    "    return(tfidf)\n",
    "#running our two sentences through the IDF:\n",
    "\n",
    "idfFirst = computeTFIDF(tfFirst, idfs)\n",
    "idfSecond = computeTFIDF(tfSecond, idfs)\n",
    "\n",
    "#putting it in a dataframe\n",
    "idf= pd.DataFrame([idfFirst, idfSecond])\n",
    "print(idf)"
   ]
  },
  {
   "cell_type": "markdown",
   "metadata": {},
   "source": [
    "Another way using 2nd idf function"
   ]
  },
  {
   "cell_type": "code",
   "execution_count": 20,
   "metadata": {},
   "outputs": [
    {
     "name": "stdout",
     "output_type": "stream",
     "text": [
      "       data        is       key       job   century   Science   machine  \\\n",
      "0  0.000000  0.087506  0.000000  0.087506  0.087506  0.087506  0.000000   \n",
      "1  0.109383  0.109383  0.109383  0.000000  0.000000  0.000000  0.109383   \n",
      "\n",
      "   learning      21st      Data       the   science       for        of  \\\n",
      "0  0.000000  0.087506  0.087506  0.139794  0.000000  0.000000  0.087506   \n",
      "1  0.109383  0.000000  0.000000  0.109383  0.109383  0.109383  0.000000   \n",
      "\n",
      "   demanding  \n",
      "0   0.087506  \n",
      "1   0.000000  \n"
     ]
    }
   ],
   "source": [
    "tfidfA = computeTFIDF(tfFirst, idfA)\n",
    "tfidfB = computeTFIDF(tfSecond, idfB)\n",
    "\n",
    "#putting it in a dataframe\n",
    "pd1= pd.DataFrame([tfidfA, tfidfB])\n",
    "print(pd1)"
   ]
  },
  {
   "cell_type": "code",
   "execution_count": null,
   "metadata": {},
   "outputs": [],
   "source": []
  }
 ],
 "metadata": {
  "kernelspec": {
   "display_name": "Python 3",
   "language": "python",
   "name": "python3"
  },
  "language_info": {
   "codemirror_mode": {
    "name": "ipython",
    "version": 3
   },
   "file_extension": ".py",
   "mimetype": "text/x-python",
   "name": "python",
   "nbconvert_exporter": "python",
   "pygments_lexer": "ipython3",
   "version": "3.8.5"
  }
 },
 "nbformat": 4,
 "nbformat_minor": 4
}
