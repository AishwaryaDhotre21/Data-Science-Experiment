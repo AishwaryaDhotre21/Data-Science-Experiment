{
 "cells": [
  {
   "cell_type": "code",
   "execution_count": 1,
   "metadata": {},
   "outputs": [],
   "source": [
    "import pandas as pd\n",
    "from sklearn.feature_extraction.text import TfidfVectorizer"
   ]
  },
  {
   "cell_type": "code",
   "execution_count": 68,
   "metadata": {},
   "outputs": [],
   "source": [
    "docA=\"the man went out for walk\"\n",
    "docB=\"the children sat around the fire walk walk\"\n",
    "docC=\"man does moon walk\""
   ]
  },
  {
   "cell_type": "code",
   "execution_count": 69,
   "metadata": {},
   "outputs": [],
   "source": [
    "bagofwordA=docA.split(' ')\n",
    "bagofwordB=docB.split(' ')\n",
    "bagofwordC=docC.split(' ')"
   ]
  },
  {
   "cell_type": "code",
   "execution_count": 70,
   "metadata": {},
   "outputs": [
    {
     "data": {
      "text/plain": [
       "['the', 'man', 'went', 'out', 'for', 'walk']"
      ]
     },
     "execution_count": 70,
     "metadata": {},
     "output_type": "execute_result"
    }
   ],
   "source": [
    "bagofwordA"
   ]
  },
  {
   "cell_type": "code",
   "execution_count": 71,
   "metadata": {},
   "outputs": [
    {
     "data": {
      "text/plain": [
       "['the', 'children', 'sat', 'around', 'the', 'fire', 'walk', 'walk']"
      ]
     },
     "execution_count": 71,
     "metadata": {},
     "output_type": "execute_result"
    }
   ],
   "source": [
    "bagofwordB"
   ]
  },
  {
   "cell_type": "code",
   "execution_count": 72,
   "metadata": {},
   "outputs": [
    {
     "data": {
      "text/plain": [
       "['man', 'does', 'moon', 'walk']"
      ]
     },
     "execution_count": 72,
     "metadata": {},
     "output_type": "execute_result"
    }
   ],
   "source": [
    "bagofwordC"
   ]
  },
  {
   "cell_type": "code",
   "execution_count": 99,
   "metadata": {},
   "outputs": [],
   "source": [
    "uniqueword=set(bagofwordA).union(set(bagofwordB),set(bagofwordC))"
   ]
  },
  {
   "cell_type": "code",
   "execution_count": 100,
   "metadata": {},
   "outputs": [
    {
     "name": "stdout",
     "output_type": "stream",
     "text": [
      "{'went', 'around', 'children', 'man', 'sat', 'fire', 'the', 'out', 'moon', 'walk', 'does', 'for'}\n"
     ]
    }
   ],
   "source": [
    "print(uniqueword)"
   ]
  },
  {
   "cell_type": "code",
   "execution_count": 101,
   "metadata": {},
   "outputs": [],
   "source": [
    "numofwordA=dict.fromkeys(uniqueword,0)"
   ]
  },
  {
   "cell_type": "code",
   "execution_count": 102,
   "metadata": {},
   "outputs": [
    {
     "data": {
      "text/plain": [
       "{'went': 0,\n",
       " 'around': 0,\n",
       " 'children': 0,\n",
       " 'man': 0,\n",
       " 'sat': 0,\n",
       " 'fire': 0,\n",
       " 'the': 0,\n",
       " 'out': 0,\n",
       " 'moon': 0,\n",
       " 'walk': 0,\n",
       " 'does': 0,\n",
       " 'for': 0}"
      ]
     },
     "execution_count": 102,
     "metadata": {},
     "output_type": "execute_result"
    }
   ],
   "source": [
    "numofwordA"
   ]
  },
  {
   "cell_type": "code",
   "execution_count": 103,
   "metadata": {},
   "outputs": [],
   "source": [
    "for i in bagofwordA:\n",
    "    numofwordA[i]=numofwordA[i]+1"
   ]
  },
  {
   "cell_type": "code",
   "execution_count": 104,
   "metadata": {},
   "outputs": [
    {
     "data": {
      "text/plain": [
       "{'went': 1,\n",
       " 'around': 0,\n",
       " 'children': 0,\n",
       " 'man': 1,\n",
       " 'sat': 0,\n",
       " 'fire': 0,\n",
       " 'the': 1,\n",
       " 'out': 1,\n",
       " 'moon': 0,\n",
       " 'walk': 1,\n",
       " 'does': 0,\n",
       " 'for': 1}"
      ]
     },
     "execution_count": 104,
     "metadata": {},
     "output_type": "execute_result"
    }
   ],
   "source": [
    "numofwordA"
   ]
  },
  {
   "cell_type": "code",
   "execution_count": 105,
   "metadata": {},
   "outputs": [],
   "source": [
    "numofwordB=dict.fromkeys(uniqueword,0)"
   ]
  },
  {
   "cell_type": "code",
   "execution_count": 106,
   "metadata": {},
   "outputs": [
    {
     "data": {
      "text/plain": [
       "{'went': 0,\n",
       " 'around': 0,\n",
       " 'children': 0,\n",
       " 'man': 0,\n",
       " 'sat': 0,\n",
       " 'fire': 0,\n",
       " 'the': 0,\n",
       " 'out': 0,\n",
       " 'moon': 0,\n",
       " 'walk': 0,\n",
       " 'does': 0,\n",
       " 'for': 0}"
      ]
     },
     "execution_count": 106,
     "metadata": {},
     "output_type": "execute_result"
    }
   ],
   "source": [
    "numofwordB"
   ]
  },
  {
   "cell_type": "code",
   "execution_count": 107,
   "metadata": {},
   "outputs": [],
   "source": [
    "for i in bagofwordB:\n",
    "    numofwordB[i]=numofwordB[i]+1"
   ]
  },
  {
   "cell_type": "code",
   "execution_count": 108,
   "metadata": {},
   "outputs": [
    {
     "data": {
      "text/plain": [
       "{'went': 0,\n",
       " 'around': 1,\n",
       " 'children': 1,\n",
       " 'man': 0,\n",
       " 'sat': 1,\n",
       " 'fire': 1,\n",
       " 'the': 2,\n",
       " 'out': 0,\n",
       " 'moon': 0,\n",
       " 'walk': 2,\n",
       " 'does': 0,\n",
       " 'for': 0}"
      ]
     },
     "execution_count": 108,
     "metadata": {},
     "output_type": "execute_result"
    }
   ],
   "source": [
    "numofwordB"
   ]
  },
  {
   "cell_type": "code",
   "execution_count": 109,
   "metadata": {},
   "outputs": [],
   "source": [
    "numofwordC=dict.fromkeys(uniqueword,0)    "
   ]
  },
  {
   "cell_type": "code",
   "execution_count": 110,
   "metadata": {},
   "outputs": [
    {
     "data": {
      "text/plain": [
       "{'went': 0,\n",
       " 'around': 0,\n",
       " 'children': 0,\n",
       " 'man': 0,\n",
       " 'sat': 0,\n",
       " 'fire': 0,\n",
       " 'the': 0,\n",
       " 'out': 0,\n",
       " 'moon': 0,\n",
       " 'walk': 0,\n",
       " 'does': 0,\n",
       " 'for': 0}"
      ]
     },
     "execution_count": 110,
     "metadata": {},
     "output_type": "execute_result"
    }
   ],
   "source": [
    "numofwordC"
   ]
  },
  {
   "cell_type": "code",
   "execution_count": 111,
   "metadata": {},
   "outputs": [],
   "source": [
    "for i in bagofwordC:\n",
    "    numofwordC[i]=numofwordC[i]+1"
   ]
  },
  {
   "cell_type": "code",
   "execution_count": 112,
   "metadata": {},
   "outputs": [
    {
     "data": {
      "text/plain": [
       "{'went': 0,\n",
       " 'around': 0,\n",
       " 'children': 0,\n",
       " 'man': 1,\n",
       " 'sat': 0,\n",
       " 'fire': 0,\n",
       " 'the': 0,\n",
       " 'out': 0,\n",
       " 'moon': 1,\n",
       " 'walk': 1,\n",
       " 'does': 1,\n",
       " 'for': 0}"
      ]
     },
     "execution_count": 112,
     "metadata": {},
     "output_type": "execute_result"
    }
   ],
   "source": [
    "numofwordC"
   ]
  },
  {
   "cell_type": "code",
   "execution_count": null,
   "metadata": {},
   "outputs": [],
   "source": []
  },
  {
   "cell_type": "markdown",
   "metadata": {},
   "source": [
    "# Term frequency\n",
    "\n",
    "tf=number of times the word occours in a document divide by total number of words in the document."
   ]
  },
  {
   "cell_type": "code",
   "execution_count": null,
   "metadata": {},
   "outputs": [],
   "source": []
  },
  {
   "cell_type": "code",
   "execution_count": 113,
   "metadata": {},
   "outputs": [],
   "source": [
    "def computeTF(worddict,bagofword):\n",
    "    tfdict={}\n",
    "    bagofwordcount=len(bagofword)\n",
    "    for word,count in worddict.items():\n",
    "        tfdict[word]=count/float(bagofwordcount)\n",
    "    return tfdict"
   ]
  },
  {
   "cell_type": "code",
   "execution_count": 114,
   "metadata": {},
   "outputs": [],
   "source": [
    "tfA=computeTF(numofwordA,bagofwordA)"
   ]
  },
  {
   "cell_type": "code",
   "execution_count": 85,
   "metadata": {},
   "outputs": [
    {
     "data": {
      "text/plain": [
       "{'went': 0.16666666666666666,\n",
       " 'around': 0.0,\n",
       " 'children': 0.0,\n",
       " 'man': 0.16666666666666666,\n",
       " 'sat': 0.0,\n",
       " 'fire': 0.0,\n",
       " 'the': 0.16666666666666666,\n",
       " 'out': 0.16666666666666666,\n",
       " 'walk': 0.16666666666666666,\n",
       " 'for': 0.16666666666666666}"
      ]
     },
     "execution_count": 85,
     "metadata": {},
     "output_type": "execute_result"
    }
   ],
   "source": [
    "tfA"
   ]
  },
  {
   "cell_type": "code",
   "execution_count": 115,
   "metadata": {},
   "outputs": [
    {
     "data": {
      "text/plain": [
       "6"
      ]
     },
     "execution_count": 115,
     "metadata": {},
     "output_type": "execute_result"
    }
   ],
   "source": [
    "len(bagofwordA)"
   ]
  },
  {
   "cell_type": "code",
   "execution_count": 116,
   "metadata": {},
   "outputs": [],
   "source": [
    "tfB=computeTF(numofwordB,bagofwordB)"
   ]
  },
  {
   "cell_type": "code",
   "execution_count": 117,
   "metadata": {},
   "outputs": [
    {
     "data": {
      "text/plain": [
       "{'went': 0.0,\n",
       " 'around': 0.125,\n",
       " 'children': 0.125,\n",
       " 'man': 0.0,\n",
       " 'sat': 0.125,\n",
       " 'fire': 0.125,\n",
       " 'the': 0.25,\n",
       " 'out': 0.0,\n",
       " 'moon': 0.0,\n",
       " 'walk': 0.25,\n",
       " 'does': 0.0,\n",
       " 'for': 0.0}"
      ]
     },
     "execution_count": 117,
     "metadata": {},
     "output_type": "execute_result"
    }
   ],
   "source": [
    "tfB"
   ]
  },
  {
   "cell_type": "code",
   "execution_count": 118,
   "metadata": {},
   "outputs": [
    {
     "data": {
      "text/plain": [
       "8"
      ]
     },
     "execution_count": 118,
     "metadata": {},
     "output_type": "execute_result"
    }
   ],
   "source": [
    "len(bagofwordB)"
   ]
  },
  {
   "cell_type": "code",
   "execution_count": 132,
   "metadata": {},
   "outputs": [],
   "source": [
    "tfC=computeTF(numofwordC,bagofwordC)"
   ]
  },
  {
   "cell_type": "code",
   "execution_count": 133,
   "metadata": {},
   "outputs": [
    {
     "data": {
      "text/plain": [
       "{'went': 0.0,\n",
       " 'around': 0.0,\n",
       " 'children': 0.0,\n",
       " 'man': 0.25,\n",
       " 'sat': 0.0,\n",
       " 'fire': 0.0,\n",
       " 'the': 0.0,\n",
       " 'out': 0.0,\n",
       " 'moon': 0.25,\n",
       " 'walk': 0.25,\n",
       " 'does': 0.25,\n",
       " 'for': 0.0}"
      ]
     },
     "execution_count": 133,
     "metadata": {},
     "output_type": "execute_result"
    }
   ],
   "source": [
    "tfC"
   ]
  },
  {
   "cell_type": "code",
   "execution_count": null,
   "metadata": {},
   "outputs": [],
   "source": []
  },
  {
   "cell_type": "markdown",
   "metadata": {},
   "source": [
    "# Inverse data frequency\n",
    "\n",
    "\n",
    "idf=log of the number of documents divided by the number of documents that contain the word w.\n",
    "\n",
    "idf determines the weight of rare word across all documents in corpus"
   ]
  },
  {
   "cell_type": "code",
   "execution_count": 124,
   "metadata": {},
   "outputs": [],
   "source": [
    "def computeidf(documents):\n",
    "    import math\n",
    "    N=len(documents)\n",
    "    print(\"Number of documents:\",N)\n",
    "    \n",
    "    idfdict=dict.fromkeys(documents[0].keys(),0)\n",
    "    for i in documents:\n",
    "        print(\"**********************\")\n",
    "        for word,val in i.items():\n",
    "            if val>0:\n",
    "                idfdict[word] += 1\n",
    "            print(word,\" : \",idfdict[word])\n",
    "                \n",
    "    print(\"Initial Val of dict:\\n\\n\\n\",idfdict)\n",
    "                \n",
    "    for word,val in idfdict.items():\n",
    "        idfdict[word]=math.log(N/float(val))\n",
    "    return idfdict\n"
   ]
  },
  {
   "cell_type": "code",
   "execution_count": 125,
   "metadata": {},
   "outputs": [
    {
     "name": "stdout",
     "output_type": "stream",
     "text": [
      "Number of documents: 3\n",
      "**********************\n",
      "went  :  1\n",
      "around  :  0\n",
      "children  :  0\n",
      "man  :  1\n",
      "sat  :  0\n",
      "fire  :  0\n",
      "the  :  1\n",
      "out  :  1\n",
      "moon  :  0\n",
      "walk  :  1\n",
      "does  :  0\n",
      "for  :  1\n",
      "**********************\n",
      "went  :  1\n",
      "around  :  1\n",
      "children  :  1\n",
      "man  :  1\n",
      "sat  :  1\n",
      "fire  :  1\n",
      "the  :  2\n",
      "out  :  1\n",
      "moon  :  0\n",
      "walk  :  2\n",
      "does  :  0\n",
      "for  :  1\n",
      "**********************\n",
      "went  :  1\n",
      "around  :  1\n",
      "children  :  1\n",
      "man  :  2\n",
      "sat  :  1\n",
      "fire  :  1\n",
      "the  :  2\n",
      "out  :  1\n",
      "moon  :  1\n",
      "walk  :  3\n",
      "does  :  1\n",
      "for  :  1\n",
      "Initial Val of dict:\n",
      "\n",
      "\n",
      " {'went': 1, 'around': 1, 'children': 1, 'man': 2, 'sat': 1, 'fire': 1, 'the': 2, 'out': 1, 'moon': 1, 'walk': 3, 'does': 1, 'for': 1}\n"
     ]
    }
   ],
   "source": [
    "idfs=computeidf([numofwordA,numofwordB,numofwordC])"
   ]
  },
  {
   "cell_type": "code",
   "execution_count": 126,
   "metadata": {
    "scrolled": true
   },
   "outputs": [
    {
     "data": {
      "text/plain": [
       "{'went': 1.0986122886681098,\n",
       " 'around': 1.0986122886681098,\n",
       " 'children': 1.0986122886681098,\n",
       " 'man': 0.4054651081081644,\n",
       " 'sat': 1.0986122886681098,\n",
       " 'fire': 1.0986122886681098,\n",
       " 'the': 0.4054651081081644,\n",
       " 'out': 1.0986122886681098,\n",
       " 'moon': 1.0986122886681098,\n",
       " 'walk': 0.0,\n",
       " 'does': 1.0986122886681098,\n",
       " 'for': 1.0986122886681098}"
      ]
     },
     "execution_count": 126,
     "metadata": {},
     "output_type": "execute_result"
    }
   ],
   "source": [
    "idfs"
   ]
  },
  {
   "cell_type": "markdown",
   "metadata": {},
   "source": [
    "# TF-IDF\n",
    "\n",
    "tf is multiplied by idf"
   ]
  },
  {
   "cell_type": "code",
   "execution_count": 127,
   "metadata": {},
   "outputs": [],
   "source": [
    "def computeTfIdf(tfbag,idfs):\n",
    "    tfidf={}\n",
    "    for word,val in tfbag.items():\n",
    "        tfidf[word]=val*idfs[word]\n",
    "    return tfidf"
   ]
  },
  {
   "cell_type": "code",
   "execution_count": 128,
   "metadata": {},
   "outputs": [],
   "source": [
    "tfidfA=computeTfIdf(tfA,idfs)"
   ]
  },
  {
   "cell_type": "code",
   "execution_count": 129,
   "metadata": {},
   "outputs": [
    {
     "data": {
      "text/plain": [
       "{'went': 0.1831020481113516,\n",
       " 'around': 0.0,\n",
       " 'children': 0.0,\n",
       " 'man': 0.06757751801802739,\n",
       " 'sat': 0.0,\n",
       " 'fire': 0.0,\n",
       " 'the': 0.06757751801802739,\n",
       " 'out': 0.1831020481113516,\n",
       " 'moon': 0.0,\n",
       " 'walk': 0.0,\n",
       " 'does': 0.0,\n",
       " 'for': 0.1831020481113516}"
      ]
     },
     "execution_count": 129,
     "metadata": {},
     "output_type": "execute_result"
    }
   ],
   "source": [
    "tfidfA"
   ]
  },
  {
   "cell_type": "code",
   "execution_count": 130,
   "metadata": {},
   "outputs": [],
   "source": [
    "tfidfB=computeTfIdf(tfB,idfs)"
   ]
  },
  {
   "cell_type": "code",
   "execution_count": 131,
   "metadata": {},
   "outputs": [
    {
     "data": {
      "text/plain": [
       "{'went': 0.0,\n",
       " 'around': 0.13732653608351372,\n",
       " 'children': 0.13732653608351372,\n",
       " 'man': 0.0,\n",
       " 'sat': 0.13732653608351372,\n",
       " 'fire': 0.13732653608351372,\n",
       " 'the': 0.1013662770270411,\n",
       " 'out': 0.0,\n",
       " 'moon': 0.0,\n",
       " 'walk': 0.0,\n",
       " 'does': 0.0,\n",
       " 'for': 0.0}"
      ]
     },
     "execution_count": 131,
     "metadata": {},
     "output_type": "execute_result"
    }
   ],
   "source": [
    "tfidfB"
   ]
  },
  {
   "cell_type": "code",
   "execution_count": 134,
   "metadata": {},
   "outputs": [],
   "source": [
    "tfidfC=computeTfIdf(tfC,idfs)"
   ]
  },
  {
   "cell_type": "code",
   "execution_count": 135,
   "metadata": {},
   "outputs": [
    {
     "data": {
      "text/plain": [
       "{'went': 0.0,\n",
       " 'around': 0.0,\n",
       " 'children': 0.0,\n",
       " 'man': 0.1013662770270411,\n",
       " 'sat': 0.0,\n",
       " 'fire': 0.0,\n",
       " 'the': 0.0,\n",
       " 'out': 0.0,\n",
       " 'moon': 0.27465307216702745,\n",
       " 'walk': 0.0,\n",
       " 'does': 0.27465307216702745,\n",
       " 'for': 0.0}"
      ]
     },
     "execution_count": 135,
     "metadata": {},
     "output_type": "execute_result"
    }
   ],
   "source": [
    "tfidfC"
   ]
  },
  {
   "cell_type": "code",
   "execution_count": null,
   "metadata": {},
   "outputs": [],
   "source": []
  }
 ],
 "metadata": {
  "kernelspec": {
   "display_name": "Python 3",
   "language": "python",
   "name": "python3"
  },
  "language_info": {
   "codemirror_mode": {
    "name": "ipython",
    "version": 3
   },
   "file_extension": ".py",
   "mimetype": "text/x-python",
   "name": "python",
   "nbconvert_exporter": "python",
   "pygments_lexer": "ipython3",
   "version": "3.8.5"
  }
 },
 "nbformat": 4,
 "nbformat_minor": 4
}
